{
 "cells": [
  {
   "cell_type": "markdown",
   "id": "cordless-civilization",
   "metadata": {},
   "source": [
    "# Advanced TTS demos"
   ]
  },
  {
   "cell_type": "markdown",
   "id": "chinese-headquarters",
   "metadata": {},
   "source": [
    "[![Open In Colab](https://colab.research.google.com/assets/colab-badge.svg)](https://colab.research.google.com/github/r9y9/ttslearn/blob/master/notebooks/ch11_Advanced-demos.ipynb)\n",
    "\n",
    "このページ（ノートブック形式）では、第11章で少し触れた「非自己回帰型ニューラルボコーダ」を用いた、発展的な音声合成のデモを示します。\n",
    "書籍ではJSUTコーパスのみを扱いましたが、ここではJVSコーパスを用いた多話者音声合成など、他のコーパスを利用した音声合成のデモも紹介します。\n",
    "このページのデモは、書籍では解説していないことに注意してください。\n",
    "\n",
    "非自己回帰型ニューラルボコーダの実装には、[kan-bayashi/ParallelWaveGAN](https://github.com/kan-bayashi/ParallelWaveGAN) を利用します。\n",
    "多話者音声合成の実装は、書籍では実装の解説はしていませんが、第9章、第10章の内容に、軽微な修正を加えることで実現可能です。\n",
    "興味のある読者は、extra_recipes のソースコードを参照してください。"
   ]
  },
  {
   "cell_type": "markdown",
   "id": "assumed-karaoke",
   "metadata": {},
   "source": [
    "## 準備"
   ]
  },
  {
   "cell_type": "markdown",
   "id": "angry-choice",
   "metadata": {},
   "source": [
    "### ttslearn のインストール"
   ]
  },
  {
   "cell_type": "code",
   "execution_count": null,
   "id": "operational-sacrifice",
   "metadata": {},
   "outputs": [],
   "source": [
    "%%capture\n",
    "try:\n",
    "    import ttslearn\n",
    "except ImportError:\n",
    "    !pip install ttslearn"
   ]
  },
  {
   "cell_type": "code",
   "execution_count": null,
   "id": "seeing-charm",
   "metadata": {},
   "outputs": [],
   "source": [
    "import ttslearn\n",
    "ttslearn.__version__"
   ]
  },
  {
   "cell_type": "markdown",
   "id": "assured-tuner",
   "metadata": {},
   "source": [
    "### パッケージのインポート"
   ]
  },
  {
   "cell_type": "code",
   "execution_count": null,
   "id": "conscious-andorra",
   "metadata": {},
   "outputs": [],
   "source": [
    "%pylab inline\n",
    "import IPython\n",
    "from IPython.display import Audio\n",
    "import librosa\n",
    "import librosa.display\n",
    "from tqdm.notebook import tqdm\n",
    "import torch\n",
    "import random"
   ]
  },
  {
   "cell_type": "markdown",
   "id": "beautiful-typing",
   "metadata": {},
   "source": [
    "## JSUT"
   ]
  },
  {
   "cell_type": "markdown",
   "id": "insured-trash",
   "metadata": {},
   "source": [
    "### Tacotron + Parallel WaveGAN (16kHz）"
   ]
  },
  {
   "cell_type": "code",
   "execution_count": null,
   "id": "connected-palestinian",
   "metadata": {},
   "outputs": [],
   "source": [
    "from ttslearn.contrib import Tacotron2PWGTTS\n",
    "\n",
    "if torch.cuda.is_available():\n",
    "    device = torch.device(\"cuda\")\n",
    "else:\n",
    "    device = torch.device(\"cpu\")\n",
    "print(\"Device:\", device)\n",
    "\n",
    "pwg_engine = Tacotron2PWGTTS(device=device)\n",
    "\n",
    "%time wav, sr = pwg_engine.tts(\"あらゆる現実を、すべて自分のほうへねじ曲げたのだ。\")\n",
    "IPython.display.display(Audio(wav, rate=sr))"
   ]
  },
  {
   "cell_type": "markdown",
   "id": "supported-implementation",
   "metadata": {},
   "source": [
    "### Tacotron + Parallel WaveGAN (24kHz）"
   ]
  },
  {
   "cell_type": "code",
   "execution_count": null,
   "id": "radical-health",
   "metadata": {},
   "outputs": [],
   "source": [
    "from ttslearn.pretrained import create_tts_engine\n",
    "\n",
    "pwg_engine = create_tts_engine(\"tacotron2_pwg_jsut24k\", device=device)\n",
    "\n",
    "%time wav, sr = pwg_engine.tts(\"あらゆる現実を、すべて自分のほうへねじ曲げたのだ。\")\n",
    "IPython.display.display(Audio(wav, rate=sr))"
   ]
  },
  {
   "cell_type": "markdown",
   "id": "successful-break",
   "metadata": {},
   "source": [
    "### Tacotron + HiFi-GAN (24kHz）"
   ]
  },
  {
   "cell_type": "code",
   "execution_count": null,
   "id": "accepted-milwaukee",
   "metadata": {},
   "outputs": [],
   "source": [
    "from ttslearn.pretrained import create_tts_engine\n",
    "\n",
    "pwg_engine = create_tts_engine(\"tacotron2_hifipwg_jsut24k\", device=device)\n",
    "\n",
    "%time wav, sr = pwg_engine.tts(\"あらゆる現実を、すべて自分のほうへねじ曲げたのだ。\")\n",
    "IPython.display.display(Audio(wav, rate=sr))"
   ]
  },
  {
   "cell_type": "markdown",
   "id": "complicated-necessity",
   "metadata": {},
   "source": [
    "## JVS "
   ]
  },
  {
   "cell_type": "markdown",
   "id": "congressional-champagne",
   "metadata": {},
   "source": [
    "### Multi-speaker Tacotron + Parallel WaveGAN (16kHz）"
   ]
  },
  {
   "cell_type": "code",
   "execution_count": null,
   "id": "infectious-company",
   "metadata": {},
   "outputs": [],
   "source": [
    "pwg_engine = create_tts_engine(\"multspk_tacotron2_pwg_jvs16k\", device=device)\n",
    "for spk in [\"jvs001\", \"jvs010\", \"jvs030\", \"jvs050\", \"jvs100\"]:\n",
    "    text = \"タコスと寿司、あなたはどっちが好きですか？わたしは\" + (\"寿司\" if random.random() > 0.2 else \"タコス\") + \"が好きです。\"\n",
    "    wav, sr = pwg_engine.tts(text, spk_id=pwg_engine.spk2id[spk])\n",
    "    print(f\"Speaker: {spk}\")\n",
    "    print(text)\n",
    "    IPython.display.display(Audio(wav, rate=sr))"
   ]
  },
  {
   "cell_type": "markdown",
   "id": "advised-picture",
   "metadata": {},
   "source": [
    "### Multi-speaker Tacotron + Parallel WaveGAN (24kHz）"
   ]
  },
  {
   "cell_type": "code",
   "execution_count": null,
   "id": "decreased-blond",
   "metadata": {},
   "outputs": [],
   "source": [
    "pwg_engine = create_tts_engine(\"multspk_tacotron2_pwg_jvs24k\", device=device)\n",
    "for spk in [\"jvs001\", \"jvs010\", \"jvs030\", \"jvs050\", \"jvs100\"]:\n",
    "    text = \"タコスと寿司、あなたはどっちが好きですか？わたしは\" + (\"寿司\" if random.random() > 0.2 else \"タコス\") + \"が好きです。\"\n",
    "    wav, sr = pwg_engine.tts(text, spk_id=pwg_engine.spk2id[spk])\n",
    "    print(f\"Speaker: {spk}\")\n",
    "    print(text)\n",
    "    IPython.display.display(Audio(wav, rate=sr))"
   ]
  },
  {
   "cell_type": "markdown",
   "id": "documented-finland",
   "metadata": {},
   "source": [
    "### Multi-speaker Tacotron + HiFi-GAN (24kHz）"
   ]
  },
  {
   "cell_type": "code",
   "execution_count": null,
   "id": "classified-needle",
   "metadata": {},
   "outputs": [],
   "source": [
    "pwg_engine = create_tts_engine(\"multspk_tacotron2_hifipwg_jvs24k\", device=device)\n",
    "for spk in [\"jvs001\", \"jvs010\", \"jvs030\", \"jvs050\", \"jvs100\"]:\n",
    "    text = \"タコスと寿司、あなたはどっちが好きですか？わたしは\" + (\"寿司\" if random.random() > 0.2 else \"タコス\") + \"が好きです。\"\n",
    "    wav, sr = pwg_engine.tts(text, spk_id=pwg_engine.spk2id[spk])\n",
    "    print(f\"Speaker: {spk}\")\n",
    "    print(text)\n",
    "    IPython.display.display(Audio(wav, rate=sr))"
   ]
  },
  {
   "cell_type": "markdown",
   "id": "cloudy-premiere",
   "metadata": {},
   "source": [
    "## Common voice (ja)"
   ]
  },
  {
   "cell_type": "markdown",
   "id": "destroyed-samoa",
   "metadata": {},
   "source": [
    "### Multi-speaker Tacotron + Parallel WaveGAN (16kHz）"
   ]
  },
  {
   "cell_type": "code",
   "execution_count": null,
   "id": "victorian-vocabulary",
   "metadata": {},
   "outputs": [],
   "source": [
    "pwg_engine = create_tts_engine(\"multspk_tacotron2_pwg_cv16k\", device=device)\n",
    "# NOTE: some speaker's voice have significant amount of noise (e.g., speaker 0)\n",
    "for spk_id in [5, 6, 12, 15, 19]:\n",
    "    text = (\"今日\" if random.random() > 0.5 else \"明日\") + \"の天気は、\" +  (\"晴れ時々曇り\" if random.random() > 0.5 else \"晴れ\") + \"です。\"\n",
    "    wav, sr = pwg_engine.tts(text, spk_id=spk_id)\n",
    "    print(f\"Speaker ID: {spk_id}\")\n",
    "    print(text)\n",
    "    IPython.display.display(Audio(wav, rate=sr))"
   ]
  },
  {
   "cell_type": "markdown",
   "id": "royal-michael",
   "metadata": {},
   "source": [
    "### Multi-speaker Tacotron + Parallel WaveGAN (24kHz）"
   ]
  },
  {
   "cell_type": "code",
   "execution_count": null,
   "id": "premium-louisiana",
   "metadata": {},
   "outputs": [],
   "source": [
    "pwg_engine = create_tts_engine(\"multspk_tacotron2_pwg_cv24k\", device=device)\n",
    "# NOTE: some speaker's voice have significant amount of noise (e.g., speaker 0)\n",
    "for spk_id in [5, 6, 12, 15, 19]:\n",
    "    text = (\"今日\" if random.random() > 0.5 else \"明日\") + \"の天気は、\" +  (\"晴れ時々曇り\" if random.random() > 0.5 else \"晴れ\") + \"です。\"\n",
    "    wav, sr = pwg_engine.tts(text, spk_id=spk_id)\n",
    "    print(f\"Speaker ID: {spk_id}\")\n",
    "    print(text)\n",
    "    IPython.display.display(Audio(wav, rate=sr))"
   ]
  },
  {
   "cell_type": "markdown",
   "id": "economic-stress",
   "metadata": {},
   "source": [
    "## 参考\n",
    "\n",
    "- Parallel WaveGAN: https://arxiv.org/abs/1910.11480\n",
    "- HiFi-GAN: https://arxiv.org/abs/2010.05646\n",
    "- Parallel WaveGANを含むGANベースの非自己回帰型ニューラルボコーダの実装: https://github.com/kan-bayashi/ParallelWaveGAN"
   ]
  }
 ],
 "metadata": {
  "kernelspec": {
   "display_name": "Python 3",
   "language": "python",
   "name": "python3"
  },
  "language_info": {
   "codemirror_mode": {
    "name": "ipython",
    "version": 3
   },
   "file_extension": ".py",
   "mimetype": "text/x-python",
   "name": "python",
   "nbconvert_exporter": "python",
   "pygments_lexer": "ipython3",
   "version": "3.8.6"
  }
 },
 "nbformat": 4,
 "nbformat_minor": 5
}
