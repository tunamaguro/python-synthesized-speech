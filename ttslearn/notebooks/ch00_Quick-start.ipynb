{
 "cells": [
  {
   "cell_type": "markdown",
   "id": "attached-european",
   "metadata": {},
   "source": [
    "# Quick start"
   ]
  },
  {
   "cell_type": "markdown",
   "id": "devoted-parade",
   "metadata": {},
   "source": [
    "[![Open In Colab](https://colab.research.google.com/assets/colab-badge.svg)](https://colab.research.google.com/github/r9y9/ttslearn/blob/master/notebooks/ch00_Quick-start.ipynb)\n",
    "\n",
    "「Pythonで学ぶ音声合成」のquick startページへようこそ！\n",
    "\n",
    "このページ（ノートブック形式）では、書籍中で解説している3つの音声合成について、音声合成のサンプルコード・音声サンプルを示します。「解説を読む前に手を動かしてみたい」という方には、最初の一歩に最適なノートブックです。\n",
    "\n",
    "ここで示す音声合成は、GitHubリポジトリで学習済みモデルが配布されています。音声サンプルを聴くだけでなく、ぜひ自分で音声合成を試してみて下さい。\n",
    "そして、音声合成の詳細を理解するためには、ソースコードと書籍を併せて参照してください。"
   ]
  },
  {
   "cell_type": "markdown",
   "id": "spare-bandwidth",
   "metadata": {},
   "source": [
    "## 準備"
   ]
  },
  {
   "cell_type": "markdown",
   "id": "primary-penguin",
   "metadata": {},
   "source": [
    "### ttslearn のインストール"
   ]
  },
  {
   "cell_type": "code",
   "execution_count": null,
   "id": "alive-decline",
   "metadata": {},
   "outputs": [],
   "source": [
    "%%capture\n",
    "try:\n",
    "    import ttslearn\n",
    "except ImportError:\n",
    "    !pip install ttslearn"
   ]
  },
  {
   "cell_type": "code",
   "execution_count": null,
   "id": "referenced-bowling",
   "metadata": {},
   "outputs": [],
   "source": [
    "import ttslearn\n",
    "ttslearn.__version__"
   ]
  },
  {
   "cell_type": "markdown",
   "id": "olive-reservoir",
   "metadata": {},
   "source": [
    "### パッケージのインポート"
   ]
  },
  {
   "cell_type": "code",
   "execution_count": null,
   "id": "challenging-passion",
   "metadata": {},
   "outputs": [],
   "source": [
    "%pylab inline\n",
    "import IPython\n",
    "from IPython.display import Audio\n",
    "import librosa\n",
    "import librosa.display\n",
    "from tqdm.notebook import tqdm\n",
    "import torch"
   ]
  },
  {
   "cell_type": "markdown",
   "id": "killing-bubble",
   "metadata": {},
   "source": [
    "## DNN音声合成 (第5章・第6章)"
   ]
  },
  {
   "cell_type": "code",
   "execution_count": null,
   "id": "olympic-shopper",
   "metadata": {},
   "outputs": [],
   "source": [
    "from ttslearn.dnntts import DNNTTS\n",
    "dnntts_engine = DNNTTS()"
   ]
  },
  {
   "cell_type": "code",
   "execution_count": null,
   "id": "noticed-initial",
   "metadata": {},
   "outputs": [],
   "source": [
    "%time wav, sr = dnntts_engine.tts(\"あらゆる現実を、すべて自分のほうへねじ曲げたのだ。\")\n",
    "IPython.display.display(Audio(wav, rate=sr))"
   ]
  },
  {
   "cell_type": "markdown",
   "id": "vertical-thinking",
   "metadata": {},
   "source": [
    "## WaveNet音声合成 (第7章・第8章)"
   ]
  },
  {
   "cell_type": "code",
   "execution_count": null,
   "id": "presidential-gibraltar",
   "metadata": {},
   "outputs": [],
   "source": [
    "from ttslearn.wavenet import WaveNetTTS\n",
    "wavenet_engine = WaveNetTTS()"
   ]
  },
  {
   "cell_type": "code",
   "execution_count": null,
   "id": "offshore-preserve",
   "metadata": {},
   "outputs": [],
   "source": [
    "%time wav, sr = wavenet_engine.tts(\"小さな鰻屋に、熱気のようなものがみなぎる\", tqdm=tqdm)\n",
    "IPython.display.display(Audio(wav, rate=sr))"
   ]
  },
  {
   "cell_type": "markdown",
   "id": "inclusive-integral",
   "metadata": {},
   "source": [
    "## Tacotron 2 (第9章・第10章)"
   ]
  },
  {
   "cell_type": "code",
   "execution_count": null,
   "id": "revolutionary-spray",
   "metadata": {},
   "outputs": [],
   "source": [
    "from ttslearn.tacotron import Tacotron2TTS\n",
    "tacotron_engine = Tacotron2TTS()"
   ]
  },
  {
   "cell_type": "code",
   "execution_count": null,
   "id": "weird-politics",
   "metadata": {},
   "outputs": [],
   "source": [
    "%time wav, sr = tacotron_engine.tts(\"昼にはペスカトーレを、夜には寿司をパクパク食べた。\", tqdm=tqdm)\n",
    "IPython.display.display(Audio(wav, rate=sr))"
   ]
  },
  {
   "cell_type": "markdown",
   "id": "veterinary-family",
   "metadata": {},
   "source": [
    "## おわりに"
   ]
  },
  {
   "cell_type": "code",
   "execution_count": null,
   "id": "institutional-stretch",
   "metadata": {},
   "outputs": [],
   "source": [
    "text = \"これから音声合成を始める皆様にとって、少しでも学習の助けになれば幸いです。\"\n",
    "print(text)\n",
    "\n",
    "for idx, (name, engine) in enumerate([\n",
    "    (\"DNNTTS\", dnntts_engine), \n",
    "    (\"WaveNet TTS\", wavenet_engine),\n",
    "    (\"Tacotron 2\", tacotron_engine),\n",
    "]):\n",
    "    %time wav, sr = engine.tts(text, tqdm=tqdm)\n",
    "    IPython.display.display(Audio(wav, rate=sr))"
   ]
  }
 ],
 "metadata": {
  "kernelspec": {
   "display_name": "Python 3",
   "language": "python",
   "name": "python3"
  },
  "language_info": {
   "codemirror_mode": {
    "name": "ipython",
    "version": 3
   },
   "file_extension": ".py",
   "mimetype": "text/x-python",
   "name": "python",
   "nbconvert_exporter": "python",
   "pygments_lexer": "ipython3",
   "version": "3.8.6"
  }
 },
 "nbformat": 4,
 "nbformat_minor": 5
}
