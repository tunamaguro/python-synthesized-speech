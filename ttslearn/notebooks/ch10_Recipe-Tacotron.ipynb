{
 "cells": [
  {
   "cell_type": "markdown",
   "id": "wired-flash",
   "metadata": {
    "tags": []
   },
   "source": [
    "# 第10章 日本語Tacotronに基づく音声合成システムの実装\n",
    "\n",
    "[![Open In Colab](https://colab.research.google.com/assets/colab-badge.svg)](https://colab.research.google.com/github/r9y9/ttslearn/blob/master/notebooks/ch10_Recipe-Tacotron.ipynb)\n",
    "\n",
    "Google colabでの実行における推定所要時間: 5時間\n",
    "\n",
    "このノートブックに記載のレシピの設定は、Google Colab上で実行した場合のタイムアウトを避けるため、学習条件を書籍に記載の設定から一部修正していることに注意してください (バッチサイズを減らす等)。\n",
    "参考までに、書籍に記載の条件で、著者 (山本) がレシピを実行した結果を以下で公開しています。\n",
    "\n",
    "- Tensorboard logs: https://tensorboard.dev/experiment/gHKogn7wRxa4B3NIVw27xw/\n",
    "- expディレクトリ(学習済みモデル、合成音声を含む) : https://drive.google.com/file/d/1LoIGkwTLUZmkJkxbTR1S7yyaWexn-Wfp/view?usp=sharing (226.9 MB)"
   ]
  },
  {
   "cell_type": "markdown",
   "id": "detailed-memorabilia",
   "metadata": {},
   "source": [
    "## 準備"
   ]
  },
  {
   "cell_type": "markdown",
   "id": "historic-documentation",
   "metadata": {},
   "source": [
    "### Google Colabを利用する場合"
   ]
  },
  {
   "cell_type": "markdown",
   "id": "sunrise-reach",
   "metadata": {},
   "source": [
    "Google Colab上でこのノートブックを実行する場合は、メニューの「ランタイム -> ランタイムのタイムの変更」から、「ハードウェア アクセラレータ」を **GPU** に変更してください。"
   ]
  },
  {
   "cell_type": "markdown",
   "id": "round-terminology",
   "metadata": {},
   "source": [
    "### Python version"
   ]
  },
  {
   "cell_type": "code",
   "execution_count": null,
   "id": "about-russia",
   "metadata": {},
   "outputs": [],
   "source": [
    "!python -VV"
   ]
  },
  {
   "cell_type": "markdown",
   "id": "herbal-short",
   "metadata": {},
   "source": [
    "### ttslearn のインストール"
   ]
  },
  {
   "cell_type": "code",
   "execution_count": null,
   "id": "foster-prague",
   "metadata": {
    "tags": []
   },
   "outputs": [],
   "source": [
    "%%capture\n",
    "try:\n",
    "    import ttslearn\n",
    "except ImportError:\n",
    "    !pip install ttslearn"
   ]
  },
  {
   "cell_type": "code",
   "execution_count": null,
   "id": "cutting-trauma",
   "metadata": {},
   "outputs": [],
   "source": [
    "import ttslearn\n",
    "ttslearn.__version__"
   ]
  },
  {
   "cell_type": "markdown",
   "id": "freelance-prize",
   "metadata": {},
   "source": [
    "## 10.1 本章の日本語音声合成システムの実装"
   ]
  },
  {
   "cell_type": "markdown",
   "id": "structured-senator",
   "metadata": {},
   "source": [
    "### 学習済みモデルを用いた音声合成"
   ]
  },
  {
   "cell_type": "code",
   "execution_count": null,
   "id": "written-russian",
   "metadata": {},
   "outputs": [],
   "source": [
    "from ttslearn.tacotron import Tacotron2TTS\n",
    "from tqdm.notebook import tqdm\n",
    "from IPython.display import Audio\n",
    "\n",
    "engine = Tacotron2TTS()\n",
    "wav, sr = engine.tts(\"一貫学習にチャレンジしましょう！\", tqdm=tqdm)\n",
    "Audio(wav, rate=sr)"
   ]
  },
  {
   "cell_type": "code",
   "execution_count": null,
   "id": "documented-indication",
   "metadata": {},
   "outputs": [],
   "source": [
    "import librosa.display\n",
    "import matplotlib.pyplot as plt\n",
    "import numpy as np\n",
    "\n",
    "fig, ax = plt.subplots(figsize=(8,2))\n",
    "librosa.display.waveshow(wav.astype(np.float32), sr, ax=ax)\n",
    "ax.set_xlabel(\"Time [sec]\")\n",
    "ax.set_ylabel(\"Amplitude\")\n",
    "plt.tight_layout()"
   ]
  },
  {
   "cell_type": "markdown",
   "id": "desperate-surname",
   "metadata": {},
   "source": [
    "### レシピ実行の前準備"
   ]
  },
  {
   "cell_type": "code",
   "execution_count": null,
   "id": "guilty-ukraine",
   "metadata": {},
   "outputs": [],
   "source": [
    "%%capture\n",
    "from ttslearn.env import is_colab\n",
    "from os.path import exists\n",
    "\n",
    "# pip install ttslearn ではレシピはインストールされないので、手動でダウンロード\n",
    "if is_colab() and not exists(\"recipes.zip\"):\n",
    "    !curl -LO https://github.com/r9y9/ttslearn/releases/download/v{ttslearn.__version__}/recipes.zip\n",
    "    !unzip -o recipes.zip"
   ]
  },
  {
   "cell_type": "code",
   "execution_count": null,
   "id": "guilty-charity",
   "metadata": {},
   "outputs": [],
   "source": [
    "import os\n",
    "# recipeのディレクトリに移動\n",
    "cwd = os.getcwd()\n",
    "if cwd.endswith(\"notebooks\"):\n",
    "    os.chdir(\"../recipes/tacotron/\")\n",
    "elif is_colab():\n",
    "    os.chdir(\"recipes/tacotron/\")   "
   ]
  },
  {
   "cell_type": "code",
   "execution_count": null,
   "id": "parallel-train",
   "metadata": {},
   "outputs": [],
   "source": [
    "import time\n",
    "start_time = time.time()"
   ]
  },
  {
   "cell_type": "markdown",
   "id": "committed-honduras",
   "metadata": {},
   "source": [
    "### パッケージのインポート"
   ]
  },
  {
   "cell_type": "code",
   "execution_count": null,
   "id": "cathedral-guyana",
   "metadata": {},
   "outputs": [],
   "source": [
    "%pylab inline\n",
    "%load_ext autoreload\n",
    "%load_ext tensorboard\n",
    "%autoreload\n",
    "import IPython\n",
    "from IPython.display import Audio\n",
    "import tensorboard as tb\n",
    "import os"
   ]
  },
  {
   "cell_type": "code",
   "execution_count": null,
   "id": "functioning-meditation",
   "metadata": {},
   "outputs": [],
   "source": [
    "# 数値演算\n",
    "import numpy as np\n",
    "import torch\n",
    "from torch import nn\n",
    "# 音声波形の読み込み\n",
    "from scipy.io import wavfile\n",
    "# フルコンテキストラベル、質問ファイルの読み込み\n",
    "from nnmnkwii.io import hts\n",
    "# 音声分析\n",
    "import pyworld\n",
    "# 音声分析、可視化\n",
    "import librosa\n",
    "import librosa.display\n",
    "import pandas as pd\n",
    "# Pythonで学ぶ音声合成\n",
    "import ttslearn"
   ]
  },
  {
   "cell_type": "code",
   "execution_count": null,
   "id": "capital-mathematics",
   "metadata": {},
   "outputs": [],
   "source": [
    "# シードの固定\n",
    "from ttslearn.util import init_seed\n",
    "init_seed(773)"
   ]
  },
  {
   "cell_type": "code",
   "execution_count": null,
   "id": "closing-falls",
   "metadata": {},
   "outputs": [],
   "source": [
    "torch.__version__"
   ]
  },
  {
   "cell_type": "markdown",
   "id": "square-fellow",
   "metadata": {},
   "source": [
    "### 描画周りの設定"
   ]
  },
  {
   "cell_type": "code",
   "execution_count": null,
   "id": "liquid-stretch",
   "metadata": {},
   "outputs": [],
   "source": [
    "from ttslearn.notebook import get_cmap, init_plot_style, savefig\n",
    "cmap = get_cmap()\n",
    "init_plot_style()"
   ]
  },
  {
   "cell_type": "markdown",
   "id": "unnecessary-wrestling",
   "metadata": {},
   "source": [
    "### レシピの設定"
   ]
  },
  {
   "cell_type": "code",
   "execution_count": null,
   "id": "streaming-slope",
   "metadata": {},
   "outputs": [],
   "source": [
    "# run.shを利用した学習スクリプトをnotebookから行いたい場合は、True\n",
    "# google colab の場合は、True とします\n",
    "# ローカル環境の場合、run.sh をターミナルから実行することを推奨します。\n",
    "# その場合、このノートブックは可視化・学習済みモデルのテストのために利用します。\n",
    "run_sh = is_colab()\n",
    "\n",
    "# 注意: WaveNetを利用した評価データに対する音声生成は時間がかかることに注意\n",
    "run_stage6 = True\n",
    "\n",
    "# run.sh経由で実行するスクリプトのtqdm\n",
    "run_sh_tqdm = \"none\"\n",
    "\n",
    "# CUDA\n",
    "# NOTE: run.shの引数として渡すので、boolではなく文字列で定義しています\n",
    "cudnn_benchmark = \"true\"\n",
    "cudnn_deterministic = \"false\"\n",
    "\n",
    "# 特徴抽出時の並列処理のジョブ数\n",
    "n_jobs = os.cpu_count()//2\n",
    "\n",
    "# 音響モデル (Tacotron) の設定ファイル名\n",
    "acoustic_config_name=\"tacotron2_rf2\"\n",
    "# WaveNetボコーダの設定ファイル名\n",
    "wavenet_config_name=\"wavenet_sr16k_mulaw256_30layers\"\n",
    "\n",
    "# Tacotron学習におけるバッチサイズ\n",
    "tacotron_batch_size = 16\n",
    "# Tacotron学習のイテレーション数\n",
    "# 注意: 十分な品質を得るために必要な値: 50k ~ 100k steps\n",
    "tacotron_max_train_steps = 5000\n",
    "\n",
    "# WaveNetボコーダの学習におけるバッチサイズ\n",
    "# 推奨バッチサイズ:  8以上\n",
    "# 動作確認のため、小さな値に設定しています\n",
    "wavenet_batch_size = 4\n",
    "# WavaNetの学習イテレーション数\n",
    "# 注意: 十分な品質を得るために必要な値: 300k ~ 500k steps\n",
    "wavenet_max_train_steps = 20000\n",
    "\n",
    "# 音声生成を行う発話数\n",
    "# WaveNetの推論は時間がかかるので、ノートブックで表示する5つのみ生成する\n",
    "num_eval_utts = 5\n",
    "\n",
    "# ノートブックで利用するテスト用の発話（学習データ、評価データ）\n",
    "train_utt = \"BASIC5000_0001\"\n",
    "test_utt = \"BASIC5000_5000\""
   ]
  },
  {
   "cell_type": "markdown",
   "id": "hindu-yesterday",
   "metadata": {},
   "source": [
    "### Tensorboard によるログの可視化"
   ]
  },
  {
   "cell_type": "code",
   "execution_count": null,
   "id": "thorough-concern",
   "metadata": {},
   "outputs": [],
   "source": [
    "# ノートブック上から tensorboard のログを確認する場合、次の行を有効にしてください\n",
    "if is_colab():\n",
    "    %tensorboard --logdir tensorboard/"
   ]
  },
  {
   "cell_type": "markdown",
   "id": "polyphonic-release",
   "metadata": {},
   "source": [
    "## 10.2 Tacotron 2 を日本語に適用するための変更"
   ]
  },
  {
   "cell_type": "markdown",
   "id": "bigger-liability",
   "metadata": {},
   "source": [
    "### 音素列と韻律記号付き音素列の比較"
   ]
  },
  {
   "cell_type": "code",
   "execution_count": null,
   "id": "dramatic-payday",
   "metadata": {},
   "outputs": [],
   "source": [
    "import pyopenjtalk\n",
    "# この実装は後述します\n",
    "from ttslearn.tacotron.frontend.openjtalk import pp_symbols"
   ]
  },
  {
   "cell_type": "code",
   "execution_count": null,
   "id": "optional-somewhere",
   "metadata": {},
   "outputs": [],
   "source": [
    "print(\"音素列:\", pyopenjtalk.g2p(\"端が\"))\n",
    "print(\"音素列:\", pyopenjtalk.g2p(\"箸が\"))\n",
    "print(\"音素列:\", pyopenjtalk.g2p(\"橋が\"))"
   ]
  },
  {
   "cell_type": "code",
   "execution_count": null,
   "id": "mexican-organization",
   "metadata": {},
   "outputs": [],
   "source": [
    "print(\"韻律記号付き音素列:\", \" \".join(pp_symbols(pyopenjtalk.extract_fullcontext(\"端が\"))))\n",
    "print(\"韻律記号付き音素列:\", \" \".join(pp_symbols(pyopenjtalk.extract_fullcontext(\"箸が\"))))\n",
    "print(\"韻律記号付き音素列:\", \" \".join(pp_symbols(pyopenjtalk.extract_fullcontext(\"橋が\"))))"
   ]
  },
  {
   "cell_type": "markdown",
   "id": "demographic-simon",
   "metadata": {},
   "source": [
    "### フルコンテキストラベルからの音素列および韻律記号の抽出"
   ]
  },
  {
   "cell_type": "code",
   "execution_count": null,
   "id": "presidential-carry",
   "metadata": {},
   "outputs": [],
   "source": [
    "import re\n",
    "\n",
    "def numeric_feature_by_regex(regex, s):\n",
    "    match = re.search(regex, s)\n",
    "    # 未定義 (xx) の場合、コンテキストの取りうる値以外の適当な値\n",
    "    if match is None:\n",
    "        return -50\n",
    "    return int(match.group(1))"
   ]
  },
  {
   "cell_type": "code",
   "execution_count": null,
   "id": "adjusted-contrary",
   "metadata": {},
   "outputs": [],
   "source": [
    "labels = hts.load(ttslearn.util.example_label_file())\n",
    "labels.contexts[1]"
   ]
  },
  {
   "cell_type": "code",
   "execution_count": null,
   "id": "complicated-drain",
   "metadata": {},
   "outputs": [],
   "source": [
    "numeric_feature_by_regex(r\"/A:([0-9\\-]+)\\+\", labels.contexts[1])"
   ]
  },
  {
   "cell_type": "code",
   "execution_count": null,
   "id": "declared-homework",
   "metadata": {},
   "outputs": [],
   "source": [
    "def pp_symbols(labels, drop_unvoiced_vowels=True):\n",
    "    PP = []\n",
    "    N = len(labels)\n",
    "\n",
    "    # 各音素毎に順番に処理\n",
    "    for n in range(N):\n",
    "        lab_curr = labels[n]\n",
    "\n",
    "        # 当該音素\n",
    "        p3 = re.search(r\"\\-(.*?)\\+\", lab_curr).group(1)\n",
    "\n",
    "        # 無声化母音を通常の母音として扱う\n",
    "        if drop_unvoiced_vowels and p3 in \"AEIOU\":\n",
    "            p3 = p3.lower()\n",
    "\n",
    "        # 先頭と末尾の sil のみ例外対応\n",
    "        if p3 == \"sil\":\n",
    "            assert n == 0 or n == N - 1\n",
    "            if n == 0:\n",
    "                PP.append(\"^\")\n",
    "            elif n == N - 1:\n",
    "                # 疑問系かどうか\n",
    "                e3 = numeric_feature_by_regex(r\"!(\\d+)_\", lab_curr)\n",
    "                if e3 == 0:\n",
    "                    PP.append(\"$\")\n",
    "                elif e3 == 1:\n",
    "                    PP.append(\"?\")\n",
    "            continue\n",
    "        elif p3 == \"pau\":\n",
    "            PP.append(\"_\")\n",
    "            continue\n",
    "        else:\n",
    "            PP.append(p3)\n",
    "\n",
    "        # アクセント型および位置情報（前方または後方）\n",
    "        a1 = numeric_feature_by_regex(r\"/A:([0-9\\-]+)\\+\", lab_curr)\n",
    "        a2 = numeric_feature_by_regex(r\"\\+(\\d+)\\+\", lab_curr)\n",
    "        a3 = numeric_feature_by_regex(r\"\\+(\\d+)/\", lab_curr)\n",
    "        # アクセント句におけるモーラ数\n",
    "        f1 = numeric_feature_by_regex(r\"/F:(\\d+)_\", lab_curr)\n",
    "\n",
    "        a2_next = numeric_feature_by_regex(r\"\\+(\\d+)\\+\", labels[n + 1])\n",
    "\n",
    "        # アクセント句境界\n",
    "        if a3 == 1 and a2_next == 1:\n",
    "            PP.append(\"#\")\n",
    "        # ピッチの立ち下がり（アクセント核）\n",
    "        elif a1 == 0 and a2_next == a2 + 1 and a2 != f1:\n",
    "            PP.append(\"]\")\n",
    "        # ピッチの立ち上がり\n",
    "        elif a2 == 1 and a2_next == 2:\n",
    "            PP.append(\"[\")\n",
    "\n",
    "    return PP"
   ]
  },
  {
   "cell_type": "code",
   "execution_count": null,
   "id": "small-contract",
   "metadata": {},
   "outputs": [],
   "source": [
    "import pyopenjtalk\n",
    "\n",
    "text = \"今日の天気は？\"\n",
    "\n",
    "# テキストからフルコンテキストを抽出\n",
    "labels = pyopenjtalk.extract_fullcontext(text)\n",
    "# フルコンテキストから、韻律記号付き音素列に変換\n",
    "PP = pp_symbols(labels)\n",
    "\n",
    "print(\"入力文字列:\", text)\n",
    "print(\"音素列:\", pyopenjtalk.g2p(text))\n",
    "print(\"韻律記号付き音素列:\", \" \".join(PP))"
   ]
  },
  {
   "cell_type": "markdown",
   "id": "threatened-hours",
   "metadata": {},
   "source": [
    "## プログラム実装の前準備"
   ]
  },
  {
   "cell_type": "markdown",
   "id": "limited-sheffield",
   "metadata": {},
   "source": [
    "### stage -1: コーパスのダウンロード"
   ]
  },
  {
   "cell_type": "code",
   "execution_count": null,
   "id": "selected-arnold",
   "metadata": {},
   "outputs": [],
   "source": [
    "if is_colab():\n",
    "    ! ./run.sh --stage -1 --stop-stage -1"
   ]
  },
  {
   "cell_type": "markdown",
   "id": "dressed-listening",
   "metadata": {},
   "source": [
    "### Stage 0: 学習/検証/評価データの分割"
   ]
  },
  {
   "cell_type": "code",
   "execution_count": null,
   "id": "labeled-binary",
   "metadata": {},
   "outputs": [],
   "source": [
    "if run_sh:\n",
    "    ! ./run.sh --stage 0 --stop-stage 0"
   ]
  },
  {
   "cell_type": "code",
   "execution_count": null,
   "id": "freelance-register",
   "metadata": {},
   "outputs": [],
   "source": [
    "! ls data/"
   ]
  },
  {
   "cell_type": "code",
   "execution_count": null,
   "id": "legislative-translator",
   "metadata": {},
   "outputs": [],
   "source": [
    "! head data/dev.list"
   ]
  },
  {
   "cell_type": "markdown",
   "id": "incorporated-station",
   "metadata": {},
   "source": [
    "## 10.3 データの前処理"
   ]
  },
  {
   "cell_type": "markdown",
   "id": "acoustic-dietary",
   "metadata": {},
   "source": [
    "### Tacotron 2 のための前処理"
   ]
  },
  {
   "cell_type": "markdown",
   "id": "partial-ceramic",
   "metadata": {},
   "source": [
    "#### 1発話に対する前処理"
   ]
  },
  {
   "cell_type": "code",
   "execution_count": null,
   "id": "incredible-opportunity",
   "metadata": {},
   "outputs": [],
   "source": [
    "from ttslearn.tacotron.frontend.openjtalk import text_to_sequence, pp_symbols\n",
    "from ttslearn.dsp import mulaw_quantize, logmelspectrogram\n",
    "\n",
    "# 韻律記号付き音素列の抽出\n",
    "labels = hts.load(ttslearn.util.example_label_file())\n",
    "PP = pp_symbols(labels.contexts)\n",
    "in_feats = np.array(text_to_sequence(PP), dtype=np.int64)\n",
    "\n",
    "# メルスペクトログラムの計算\n",
    "sr = 16000\n",
    "_sr, x = wavfile.read(ttslearn.util.example_audio_file())\n",
    "x = (x / 32768).astype(np.float64)\n",
    "x = librosa.resample(x, _sr, sr)\n",
    "\n",
    "out_feats = logmelspectrogram(x, sr)\n",
    "\n",
    "# 冒頭と末尾の非音声区間の長さを調整\n",
    "assert \"sil\" in labels.contexts[0] and \"sil\" in labels.contexts[-1]\n",
    "start_frame = int(labels.start_times[1] / 125000)\n",
    "end_frame = int(labels.end_times[-2] / 125000)\n",
    "\n",
    "# 最初：50 ミリ秒、最後：100 ミリ秒\n",
    "start_frame = max(0, start_frame - int(0.050 / 0.0125))\n",
    "end_frame = min(len(out_feats), end_frame + int(0.100 / 0.0125))\n",
    "\n",
    "out_feats = out_feats[start_frame:end_frame]\n",
    "\n",
    "# 時間領域で音声の長さを調整\n",
    "x = x[int(start_frame * 0.0125 * sr) :]\n",
    "length = int(sr * 0.0125) * out_feats.shape[0]\n",
    "x = pad_1d(x, length) if len(x) < length else x[:length]\n",
    "\n",
    "# 特徴量のアップサンプリングを行う都合上、音声波形の長さはフレームシフトで割り切れる必要があります\n",
    "assert len(x) % int(sr * 0.0125) == 0\n",
    "\n",
    "# mu-law 量子化\n",
    "x = mulaw_quantize(x)"
   ]
  },
  {
   "cell_type": "code",
   "execution_count": null,
   "id": "explicit-steam",
   "metadata": {},
   "outputs": [],
   "source": [
    "print(\"Tacotron の入力特徴量のサイズ:\", in_feats.shape)\n",
    "print(\"Tacotron の出力特徴量のサイズ:\", out_feats.shape)\n",
    "print(\"WaveNet ボコーダの出力の音声波形のサイズ:\", x.shape)"
   ]
  },
  {
   "cell_type": "code",
   "execution_count": null,
   "id": "temporal-armor",
   "metadata": {},
   "outputs": [],
   "source": [
    "from ttslearn.tacotron.frontend.openjtalk import num_vocab\n",
    "from ttslearn.dsp import inv_mulaw_quantize\n",
    "from torch.nn import functional as F\n",
    "\n",
    "inp = F.one_hot(torch.from_numpy(in_feats), num_vocab()).numpy()\n",
    "\n",
    "fig, ax = plt.subplots(3, 1, figsize=(8,8))\n",
    "ax[0].set_title(\"Phoneme sequence + prosody symbols (one-hot)\")\n",
    "ax[1].set_title(\"Mel-spectrogram\")\n",
    "ax[2].set_title(\"Mu-law quantized waveform\")\n",
    "\n",
    "ax[0].imshow(inp.T, aspect=\"auto\", interpolation=\"nearest\", origin=\"lower\", cmap=cmap)\n",
    "ax[1].imshow(out_feats.T, aspect=\"auto\", interpolation=\"nearest\", origin=\"lower\", cmap=cmap)\n",
    "librosa.display.waveshow(x.astype(np.float32), ax=ax[2], sr=sr)\n",
    "\n",
    "ax[0].set_xlabel(\"Phoneme\")\n",
    "ax[0].set_ylabel(\"Binary value\")\n",
    "ax[1].set_xlabel(\"Time [frame]\")\n",
    "ax[1].set_ylabel(\"Mel filter channel\")\n",
    "ax[2].set_xlabel(\"Time [sec]\")\n",
    "ax[2].set_ylabel(\"Amplitude\")\n",
    "\n",
    "plt.tight_layout()\n",
    "savefig(\"fig/e2etts_impl_taco2_inout\")"
   ]
  },
  {
   "cell_type": "markdown",
   "id": "british-computer",
   "metadata": {},
   "source": [
    "#### レシピの stage 1 の実行\n",
    "\n",
    "バッチ処理を行うコマンドラインプログラムは、 `preprocess.py` を参照してください。"
   ]
  },
  {
   "cell_type": "code",
   "execution_count": null,
   "id": "developmental-legislature",
   "metadata": {},
   "outputs": [],
   "source": [
    "if run_sh:\n",
    "    ! ./run.sh --stage 1 --stop-stage 1"
   ]
  },
  {
   "cell_type": "markdown",
   "id": "engaged-invention",
   "metadata": {},
   "source": [
    "### 特徴量の正規化"
   ]
  },
  {
   "cell_type": "markdown",
   "id": "abandoned-aurora",
   "metadata": {},
   "source": [
    "正規化のための統計量を計算するコマンドラインプログラムは、 `recipes/common/fit_scaler.py` を参照してください。また、正規化を行うコマンドラインプログラムは、 `recipes/common/preprocess_normalize.py` を参照してください。"
   ]
  },
  {
   "cell_type": "markdown",
   "id": "white-peoples",
   "metadata": {},
   "source": [
    "#### レシピの stage 2 の実行"
   ]
  },
  {
   "cell_type": "code",
   "execution_count": null,
   "id": "developed-tours",
   "metadata": {},
   "outputs": [],
   "source": [
    "if run_sh:\n",
    "    ! ./run.sh --stage 2 --stop-stage 2 --n-jobs $n_jobs"
   ]
  },
  {
   "cell_type": "markdown",
   "id": "serious-senegal",
   "metadata": {},
   "source": [
    "#### 正規化の処理の結果の確認"
   ]
  },
  {
   "cell_type": "code",
   "execution_count": null,
   "id": "needed-colon",
   "metadata": {},
   "outputs": [],
   "source": [
    "in_feats = np.load(f\"dump/jsut_sr16000/org/train/out_tacotron/{train_utt}-feats.npy\")\n",
    "in_feats_norm = np.load(f\"dump/jsut_sr16000/norm/train/out_tacotron/{train_utt}-feats.npy\")\n",
    "fig, ax = plt.subplots(2, 1, figsize=(8,6), sharex=True)\n",
    "ax[0].set_title(\"Mel-spectrogram (before normalization)\")\n",
    "ax[1].set_title(\"Mel-spectrogram (after normalization)\")\n",
    "\n",
    "hop_length = int(sr * 0.0125)\n",
    "mesh = librosa.display.specshow(\n",
    "    in_feats.T, sr=sr, hop_length=hop_length, x_axis=\"time\", y_axis=\"frames\", ax=ax[0], cmap=cmap)\n",
    "fig.colorbar(mesh, ax=ax[0])\n",
    "mesh = librosa.display.specshow(\n",
    "    in_feats_norm.T, sr=sr, hop_length=hop_length, x_axis=\"time\", y_axis=\"frames\",ax=ax[1], cmap=cmap)\n",
    "mesh.set_clim(-4, 4)\n",
    "fig.colorbar(mesh, ax=ax[1])\n",
    "\n",
    "for a in ax:\n",
    "    a.set_xlabel(\"Time [sec]\")\n",
    "    a.set_ylabel(\"Mel filter channel\")\n",
    "plt.tight_layout()"
   ]
  },
  {
   "cell_type": "markdown",
   "id": "extra-silicon",
   "metadata": {},
   "source": [
    "## 10.4 Tacotron の学習スクリプトの作成"
   ]
  },
  {
   "cell_type": "markdown",
   "id": "active-armstrong",
   "metadata": {},
   "source": [
    "### DataLoader の実装"
   ]
  },
  {
   "cell_type": "markdown",
   "id": "excited-africa",
   "metadata": {},
   "source": [
    "#### collate_fn の実装"
   ]
  },
  {
   "cell_type": "code",
   "execution_count": null,
   "id": "addressed-renaissance",
   "metadata": {},
   "outputs": [],
   "source": [
    "def ensure_divisible_by(feats, N):\n",
    "    if N == 1:\n",
    "        return feats\n",
    "    mod = len(feats) % N\n",
    "    if mod != 0:\n",
    "        feats = feats[: len(feats) - mod]\n",
    "    return feats"
   ]
  },
  {
   "cell_type": "code",
   "execution_count": null,
   "id": "checked-france",
   "metadata": {},
   "outputs": [],
   "source": [
    "from ttslearn.util import pad_1d, pad_2d\n",
    "\n",
    "def collate_fn_tacotron(batch, reduction_factor=1):\n",
    "    xs = [x[0] for x in batch]\n",
    "    ys = [ensure_divisible_by(x[1], reduction_factor) for x in batch]\n",
    "    in_lens = [len(x) for x in xs]\n",
    "    out_lens = [len(y) for y in ys]\n",
    "    in_max_len = max(in_lens)\n",
    "    out_max_len = max(out_lens)\n",
    "    x_batch = torch.stack([torch.from_numpy(pad_1d(x, in_max_len)) for x in xs])\n",
    "    y_batch = torch.stack([torch.from_numpy(pad_2d(y, out_max_len)) for y in ys])\n",
    "    in_lens = torch.tensor(in_lens, dtype=torch.long)\n",
    "    out_lens = torch.tensor(out_lens, dtype=torch.long)\n",
    "    stop_flags = torch.zeros(y_batch.shape[0], y_batch.shape[1])\n",
    "    for idx, out_len in enumerate(out_lens):\n",
    "        stop_flags[idx, out_len - 1 :] = 1.0\n",
    "    return x_batch, in_lens, y_batch, out_lens, stop_flags"
   ]
  },
  {
   "cell_type": "markdown",
   "id": "tight-acceptance",
   "metadata": {},
   "source": [
    "#### DataLoader の利用例"
   ]
  },
  {
   "cell_type": "code",
   "execution_count": null,
   "id": "detailed-privilege",
   "metadata": {},
   "outputs": [],
   "source": [
    "from pathlib import Path\n",
    "from ttslearn.train_util import Dataset, collate_fn_tacotron\n",
    "from functools import partial\n",
    "\n",
    "in_paths = sorted(Path(\"./dump/jsut_sr16000/norm/dev/in_tacotron/\").glob(\"*.npy\"))\n",
    "out_paths = sorted(Path(\"./dump/jsut_sr16000/norm/dev/out_tacotron/\").glob(\"*.npy\"))\n",
    "\n",
    "dataset = Dataset(in_paths, out_paths)\n",
    "collate_fn = partial(collate_fn_tacotron, reduction_factor=1)\n",
    "data_loader = torch.utils.data.DataLoader(dataset, batch_size=8, collate_fn=collate_fn, num_workers=0)\n",
    "\n",
    "in_feats, in_lens, out_feats, out_lens, stop_flags = next(iter(data_loader))\n",
    "print(\"入力特徴量のサイズ:\", tuple(in_feats.shape))\n",
    "print(\"出力特徴量のサイズ:\", tuple(out_feats.shape))\n",
    "print(\"stop flags のサイズ:\", tuple(stop_flags.shape))"
   ]
  },
  {
   "cell_type": "markdown",
   "id": "genetic-islam",
   "metadata": {},
   "source": [
    "#### ミニバッチの可視化"
   ]
  },
  {
   "cell_type": "code",
   "execution_count": null,
   "id": "hawaiian-strengthening",
   "metadata": {},
   "outputs": [],
   "source": [
    "fig, ax = plt.subplots(len(out_feats), 1, figsize=(8,10), sharex=True, sharey=True)\n",
    "for n in range(len(in_feats)):\n",
    "    x = out_feats[n].data.numpy()\n",
    "    hop_length = int(sr * 0.0125)\n",
    "    mesh = librosa.display.specshow(x.T, sr=sr, x_axis=\"time\", y_axis=\"frames\", hop_length=hop_length, cmap=cmap, ax=ax[n])\n",
    "    fig.colorbar(mesh, ax=ax[n])\n",
    "    mesh.set_clim(-4, 4)\n",
    "    # あとで付け直すので、ここではラベルを削除します\n",
    "    ax[n].set_xlabel(\"\")\n",
    "    \n",
    "ax[-1].set_xlabel(\"Time [sec]\")\n",
    "for a in ax:\n",
    "    a.set_ylabel(\"Mel channel\")\n",
    "\n",
    "plt.tight_layout()\n",
    "savefig(\"fig/e2etts_impl_minibatch\")"
   ]
  },
  {
   "cell_type": "markdown",
   "id": "theoretical-delivery",
   "metadata": {},
   "source": [
    "### 簡易的な学習スクリプトの実装"
   ]
  },
  {
   "cell_type": "markdown",
   "id": "delayed-southeast",
   "metadata": {},
   "source": [
    "#### 学習の前準備"
   ]
  },
  {
   "cell_type": "code",
   "execution_count": null,
   "id": "modern-houston",
   "metadata": {},
   "outputs": [],
   "source": [
    "from ttslearn.tacotron import Tacotron2 as Tacotron\n",
    "from torch import optim\n",
    "\n",
    "# 動作確認用：層の数を減らした小さなTacotron\n",
    "model = Tacotron(\n",
    "    embed_dim=32, encoder_conv_layers=1, encoder_conv_channels=32, encoder_hidden_dim=32,\n",
    "    decoder_hidden_dim=32, postnet_channels=32, postnet_layers=1)\n",
    "\n",
    "# lr は学習率を表します\n",
    "optimizer = optim.Adam(model.parameters(), lr=0.001)\n",
    "\n",
    "# gamma は学習率の減衰係数を表します\n",
    "lr_scheduler = optim.lr_scheduler.StepLR(optimizer, gamma=0.5, step_size=100000)"
   ]
  },
  {
   "cell_type": "markdown",
   "id": "collectible-controversy",
   "metadata": {},
   "source": [
    "#### 学習ループの実装"
   ]
  },
  {
   "cell_type": "code",
   "execution_count": null,
   "id": "fatty-constitutional",
   "metadata": {},
   "outputs": [],
   "source": [
    "from ttslearn.util import make_non_pad_mask\n",
    "\n",
    "# DataLoader を用いたミニバッチの作成: ミニバッチ毎に処理する\n",
    "for in_feats, in_lens, out_feats, out_lens, stop_flags in tqdm(data_loader):\n",
    "    in_lens, indices = torch.sort(in_lens, dim=0, descending=True)\n",
    "    in_feats, out_feats, out_lens = in_feats[indices], out_feats[indices], out_lens[indices]\n",
    "    \n",
    "    # 順伝搬の計算\n",
    "    outs, outs_fine, logits, _ = model(in_feats, in_lens, out_feats)\n",
    "    \n",
    "    # ゼロパディグした部分を損失関数のの計算から除外するためにマスクを適用します\n",
    "    # Mask (B x T x 1)\n",
    "    mask = make_non_pad_mask(out_lens).unsqueeze(-1)\n",
    "    out_feats = out_feats.masked_select(mask)\n",
    "    outs = outs.masked_select(mask)\n",
    "    outs_fine = outs_fine.masked_select(mask)\n",
    "    stop_flags = stop_flags.masked_select(mask.squeeze(-1))\n",
    "    logits = logits.masked_select(mask.squeeze(-1))\n",
    "\n",
    "    # 損失の計算\n",
    "    decoder_out_loss = nn.MSELoss()(outs, out_feats)\n",
    "    postnet_out_loss = nn.MSELoss()(outs_fine, out_feats) \n",
    "    stop_token_loss = nn.BCEWithLogitsLoss()(logits, stop_flags)\n",
    "    \n",
    "    # 損失の合計\n",
    "    loss = decoder_out_loss + postnet_out_loss + stop_token_loss\n",
    "\n",
    "    # 損失の値を出力\n",
    "    print(f\"decoder_out_loss: {decoder_out_loss:.2f}, postnet_out_loss: {postnet_out_loss:.2f}, stop_token_loss: {stop_token_loss:.2f}\")\n",
    "    # optimizer に蓄積された勾配をリセット\n",
    "    optimizer.zero_grad()\n",
    "    # 誤差の逆伝播\n",
    "    loss.backward()\n",
    "    # パラメータの更新\n",
    "    optimizer.step()\n",
    "    # 学習率スケジューラの更新\n",
    "    lr_scheduler.step()"
   ]
  },
  {
   "cell_type": "markdown",
   "id": "above-multiple",
   "metadata": {},
   "source": [
    "### アテンション重みの可視化\n",
    "\n",
    "ここでは、学習が正常に進行していない場合の例として、意図的に学習済みモデルの一部のパラメータを乱数で初期化します。詳細は、`randomize_tts_engine_` 参照してください。"
   ]
  },
  {
   "cell_type": "code",
   "execution_count": null,
   "id": "placed-assumption",
   "metadata": {},
   "outputs": [],
   "source": [
    "from ttslearn.tacotron import Tacotron2TTS\n",
    "from ttslearn.tacotron.tts import randomize_tts_engine_\n",
    "\n",
    "tacotron_engine = Tacotron2TTS()\n",
    "\n",
    "tacotron_engine_bad = Tacotron2TTS()\n",
    "randomize_tts_engine_(tacotron_engine_bad)\n",
    "print(\"randomized some of network weights\")"
   ]
  },
  {
   "cell_type": "code",
   "execution_count": null,
   "id": "understood-friday",
   "metadata": {},
   "outputs": [],
   "source": [
    "text = \"水をマレーシアから買わなくてはならないのです。\"\n",
    "\n",
    "import pyopenjtalk\n",
    "from ttslearn.tacotron.frontend.openjtalk import text_to_sequence, pp_symbols\n",
    "\n",
    "labels = pyopenjtalk.extract_fullcontext(text)\n",
    "# 韻律記号付き音素列\n",
    "in_feats = text_to_sequence(pp_symbols(labels))\n",
    "in_feats = torch.tensor(in_feats, dtype=torch.long)\n",
    "\n",
    "with torch.no_grad():\n",
    "    outs, outs_fine, logits, att_ws = tacotron_engine.acoustic_model.inference(in_feats)\n",
    "    \n",
    "with torch.no_grad():\n",
    "    outs2, outs_fine2, logits2, att_ws2 = tacotron_engine_bad.acoustic_model.inference(in_feats)"
   ]
  },
  {
   "cell_type": "code",
   "execution_count": null,
   "id": "rapid-conversion",
   "metadata": {},
   "outputs": [],
   "source": [
    "fig, ax = plt.subplots(1, 2, figsize=(12, 5))\n",
    "ax[0].set_title(\"Failure\")\n",
    "ax[1].set_title(\"Normal\")\n",
    "\n",
    "mesh = ax[0].imshow(att_ws2.cpu().data.numpy().T, aspect=\"auto\", origin=\"lower\", interpolation=\"nearest\")\n",
    "fig.colorbar(mesh, ax=ax[0])\n",
    "ax[0].set_xlabel(\"Decoder time step [frame]\")\n",
    "ax[0].set_ylabel(\"Encoder time step [phoneme]\")\n",
    "\n",
    "mesh = ax[1].imshow(att_ws.cpu().data.numpy().T, aspect=\"auto\", origin=\"lower\", interpolation=\"nearest\")\n",
    "fig.colorbar(mesh, ax=ax[1])\n",
    "ax[1].set_xlabel(\"Decoder time step [frame]\")\n",
    "ax[1].set_ylabel(\"Encoder time step [phoneme]\")\n",
    "\n",
    "plt.tight_layout()\n",
    "\n",
    "# 図10-5\n",
    "savefig(\"./fig/e2etts_impl_attention_failure\")"
   ]
  },
  {
   "cell_type": "markdown",
   "id": "loving-sleeping",
   "metadata": {},
   "source": [
    "### 実用的な学習スクリプトの実装"
   ]
  },
  {
   "cell_type": "markdown",
   "id": "white-wayne",
   "metadata": {},
   "source": [
    "`train_tacotron.py` を参照してください。"
   ]
  },
  {
   "cell_type": "markdown",
   "id": "legitimate-techno",
   "metadata": {},
   "source": [
    "## 10.5 Tacotron の学習"
   ]
  },
  {
   "cell_type": "markdown",
   "id": "treated-information",
   "metadata": {},
   "source": [
    "### Tacotron の設定ファイル"
   ]
  },
  {
   "cell_type": "code",
   "execution_count": null,
   "id": "compatible-giving",
   "metadata": {},
   "outputs": [],
   "source": [
    "! cat conf/train_tacotron/model/{acoustic_config_name}.yaml"
   ]
  },
  {
   "cell_type": "markdown",
   "id": "injured-aspect",
   "metadata": {},
   "source": [
    "### Tacotron のインスタンス化"
   ]
  },
  {
   "cell_type": "code",
   "execution_count": null,
   "id": "ethical-bahrain",
   "metadata": {},
   "outputs": [],
   "source": [
    "import hydra\n",
    "from omegaconf import OmegaConf\n",
    "hydra.utils.instantiate(OmegaConf.load(f\"./conf/train_tacotron/model/{acoustic_config_name}.yaml\")[\"netG\"])"
   ]
  },
  {
   "cell_type": "markdown",
   "id": "coated-administrator",
   "metadata": {},
   "source": [
    "### レシピの stage 3 の実行"
   ]
  },
  {
   "cell_type": "code",
   "execution_count": null,
   "id": "secure-efficiency",
   "metadata": {},
   "outputs": [],
   "source": [
    "if run_sh:\n",
    "    ! ./run.sh --stage 3 --stop-stage 3 --acoustic-model $acoustic_config_name \\\n",
    "        --tqdm $run_sh_tqdm --tacotron-train-max-train-steps $tacotron_max_train_steps \\\n",
    "        --tacotron-data-batch-size $tacotron_batch_size \\\n",
    "        --cudnn-benchmark $cudnn_benchmark --cudnn-deterministic $cudnn_deterministic"
   ]
  },
  {
   "cell_type": "markdown",
   "id": "integral-consultancy",
   "metadata": {},
   "source": [
    "### 損失関数の値の推移\n",
    "\n",
    "著者による実験結果です。Tensorboardのログは https://tensorboard.dev/ にアップロードされています。\n",
    "ログデータを`tensorboard` パッケージを利用してダウンロードします。\n",
    "\n",
    "https://tensorboard.dev/experiment/yXyg9qgfQRSGxvil5FA4xw/"
   ]
  },
  {
   "cell_type": "code",
   "execution_count": null,
   "id": "beginning-picking",
   "metadata": {},
   "outputs": [],
   "source": [
    "if exists(\"tensorboard/all_log.csv\"):\n",
    "    df = pd.read_csv(\"tensorboard/all_log.csv\")\n",
    "else:\n",
    "    experiment_id = \"gHKogn7wRxa4B3NIVw27xw\"\n",
    "    experiment = tb.data.experimental.ExperimentFromDev(experiment_id)\n",
    "    df = experiment.get_scalars() \n",
    "    df.to_csv(\"tensorboard/all_log.csv\", index=False)\n",
    "df[\"run\"].unique()"
   ]
  },
  {
   "cell_type": "code",
   "execution_count": null,
   "id": "finnish-comment",
   "metadata": {},
   "outputs": [],
   "source": [
    "tacotron_loss = df[df.run.str.contains(\"tacotron2_rf2\")]\n",
    "\n",
    "tacotron_train_loss = tacotron_loss[tacotron_loss.tag.str.startswith(\"Loss/train\")]\n",
    "tacotron_dev_loss = tacotron_loss[tacotron_loss.tag.str.startswith(\"Loss/dev\")]\n",
    "\n",
    "fig, ax = plt.subplots(figsize=(6,4))\n",
    "ax.plot(tacotron_train_loss[\"step\"], tacotron_train_loss[\"value\"], label=\"Train\")\n",
    "ax.plot(tacotron_dev_loss[\"step\"], tacotron_dev_loss[\"value\"], \"--\", label=\"Dev\")\n",
    "ax.set_xlabel(\"Epoch\")\n",
    "ax.set_ylabel(\"Epoch loss\")\n",
    "plt.legend()\n",
    "\n",
    "# 図10-6\n",
    "savefig(\"fig/tacotron_impl_tacotron_loss\")"
   ]
  },
  {
   "cell_type": "markdown",
   "id": "spoken-entry",
   "metadata": {},
   "source": [
    "## 10.6 WaveNet ボコーダ学習"
   ]
  },
  {
   "cell_type": "markdown",
   "id": "cellular-director",
   "metadata": {},
   "source": [
    "### WaveNetボコーダ の設定ファイル"
   ]
  },
  {
   "cell_type": "code",
   "execution_count": null,
   "id": "unusual-vietnam",
   "metadata": {},
   "outputs": [],
   "source": [
    "! cat conf/train_wavenet/model/{wavenet_config_name}.yaml"
   ]
  },
  {
   "cell_type": "markdown",
   "id": "unlimited-plaza",
   "metadata": {},
   "source": [
    "### WaveNetボコーダ のインスタンス化"
   ]
  },
  {
   "cell_type": "code",
   "execution_count": null,
   "id": "italic-enterprise",
   "metadata": {},
   "outputs": [],
   "source": [
    "import hydra\n",
    "from omegaconf import OmegaConf\n",
    "# WaveNet の 30層 すべてを表示すると長くなるため、ここでは省略します。\n",
    "# hydra.utils.instantiate(OmegaConf.load(f\"./conf/train_wavenet/model/{wavenet_config_name}.yaml\")[\"netG\"])"
   ]
  },
  {
   "cell_type": "markdown",
   "id": "unique-notebook",
   "metadata": {},
   "source": [
    "### レシピの stage 4 の実行"
   ]
  },
  {
   "cell_type": "code",
   "execution_count": null,
   "id": "contemporary-residence",
   "metadata": {},
   "outputs": [],
   "source": [
    "if run_sh:\n",
    "    ! ./run.sh --stage 4 --stop-stage 4 --wavenet-model $wavenet_config_name \\\n",
    "        --tqdm $run_sh_tqdm --wavenet-train-max-train-steps $wavenet_max_train_steps \\\n",
    "        --wavenet-data-batch-size $wavenet_batch_size \\\n",
    "        --cudnn-benchmark $cudnn_benchmark --cudnn-deterministic $cudnn_deterministic"
   ]
  },
  {
   "cell_type": "markdown",
   "id": "mechanical-brighton",
   "metadata": {},
   "source": [
    "### 損失関数の値の推移"
   ]
  },
  {
   "cell_type": "code",
   "execution_count": null,
   "id": "square-playback",
   "metadata": {},
   "outputs": [],
   "source": [
    "wavenet_loss = df[df.run.str.contains(\"wavenet\")]\n",
    "\n",
    "wavenet_train_loss = wavenet_loss[wavenet_loss.tag.str.contains(\"Loss/train\")]\n",
    "wavenet_dev_loss = wavenet_loss[wavenet_loss.tag.str.contains(\"Loss/dev\")]\n",
    "\n",
    "fig, ax = plt.subplots(figsize=(6,4))\n",
    "ax.plot(wavenet_train_loss[\"step\"], wavenet_train_loss[\"value\"], label=\"Train\")\n",
    "ax.plot(wavenet_dev_loss[\"step\"], wavenet_dev_loss[\"value\"], \"--\", label=\"Dev\")\n",
    "ax.set_xlabel(\"Epoch\")\n",
    "ax.set_ylabel(\"Epoch loss\")\n",
    "ax.set_ylim(1.6, 2.3)\n",
    "plt.legend()\n",
    "\n",
    "# 図10-7\n",
    "savefig(\"fig/tacotron_impl_wavenet_loss\")"
   ]
  },
  {
   "cell_type": "markdown",
   "id": "faced-coordinator",
   "metadata": {},
   "source": [
    "## 10.7 学習済みモデルを用いてテキストから音声を合成"
   ]
  },
  {
   "cell_type": "markdown",
   "id": "peaceful-virus",
   "metadata": {},
   "source": [
    "### 学習済みモデルの読み込み"
   ]
  },
  {
   "cell_type": "code",
   "execution_count": null,
   "id": "altered-peeing",
   "metadata": {},
   "outputs": [],
   "source": [
    "import joblib\n",
    "device = torch.device(\"cpu\")"
   ]
  },
  {
   "cell_type": "markdown",
   "id": "lasting-visibility",
   "metadata": {},
   "source": [
    "#### Tacotronの読み込み"
   ]
  },
  {
   "cell_type": "code",
   "execution_count": null,
   "id": "associate-festival",
   "metadata": {},
   "outputs": [],
   "source": [
    "acoustic_config = OmegaConf.load(f\"exp/jsut_sr16000/{acoustic_config_name}/model.yaml\")\n",
    "acoustic_model = hydra.utils.instantiate(acoustic_config.netG)\n",
    "checkpoint = torch.load(f\"exp/jsut_sr16000/{acoustic_config_name}/latest.pth\", map_location=device)\n",
    "acoustic_model.load_state_dict(checkpoint[\"state_dict\"])\n",
    "acoustic_model.eval();"
   ]
  },
  {
   "cell_type": "markdown",
   "id": "transsexual-wages",
   "metadata": {},
   "source": [
    "#### WaveNetボコーダの読み込み"
   ]
  },
  {
   "cell_type": "code",
   "execution_count": null,
   "id": "frequent-hundred",
   "metadata": {},
   "outputs": [],
   "source": [
    "wavenet_config = OmegaConf.load(f\"exp/jsut_sr16000/{wavenet_config_name}/model.yaml\")\n",
    "wavenet_model = hydra.utils.instantiate(wavenet_config.netG)\n",
    "checkpoint = torch.load(f\"exp/jsut_sr16000/{wavenet_config_name}/latest_ema.pth\", map_location=device)\n",
    "wavenet_model.load_state_dict(checkpoint[\"state_dict\"])\n",
    "# weight normalization は推論時には不要なため除く\n",
    "wavenet_model.remove_weight_norm_()\n",
    "wavenet_model.eval();"
   ]
  },
  {
   "cell_type": "markdown",
   "id": "worthy-module",
   "metadata": {},
   "source": [
    "#### 統計量の読み込み\n",
    "\n",
    "統計量は、Griffin-Limのアルゴリズムを利用する場合にのみ必要となります。"
   ]
  },
  {
   "cell_type": "code",
   "execution_count": null,
   "id": "private-beijing",
   "metadata": {},
   "outputs": [],
   "source": [
    "acoustic_out_scaler = joblib.load(\"./dump/jsut_sr16000/norm/out_tacotron_scaler.joblib\")"
   ]
  },
  {
   "cell_type": "markdown",
   "id": "sharing-brisbane",
   "metadata": {},
   "source": [
    "### メルスペクトログラムの予測"
   ]
  },
  {
   "cell_type": "code",
   "execution_count": null,
   "id": "under-draft",
   "metadata": {},
   "outputs": [],
   "source": [
    "from ttslearn.util import find_lab, find_feats\n",
    "\n",
    "labels = hts.load(find_lab(\"downloads/jsut-label/\", test_utt))\n",
    "\n",
    "in_feats = text_to_sequence(pp_symbols(labels.contexts))\n",
    "in_feats = torch.tensor(in_feats, dtype=torch.long).to(device)\n",
    "\n",
    "with torch.no_grad():\n",
    "    out_feats, out_feats_fine, stop_flags, alignment = acoustic_model.inference(in_feats)\n",
    "    \n",
    "# 比較用に、自然音声から抽出された音響特徴量を読み込みむ\n",
    "feats = np.load(find_feats(\"dump/jsut_sr16000/norm/\", test_utt, typ=\"out_tacotron\"))"
   ]
  },
  {
   "cell_type": "markdown",
   "id": "voluntary-peoples",
   "metadata": {},
   "source": [
    "#### メルスペクトログラムの可視化"
   ]
  },
  {
   "cell_type": "code",
   "execution_count": null,
   "id": "sustained-greenhouse",
   "metadata": {},
   "outputs": [],
   "source": [
    "fig, ax = plt.subplots(2, 1, figsize=(8,6))\n",
    "ax[0].set_title(\"Mel-spectrogram of natural speech\")\n",
    "ax[1].set_title(\"Mel-spectrogram of Tacotron output\")\n",
    "\n",
    "mindb = min(feats.min(), out_feats_fine.min())\n",
    "maxdb = max(feats.max(), out_feats_fine.max())\n",
    "\n",
    "hop_length = int(sr * 0.0125)\n",
    "mesh = librosa.display.specshow(\n",
    "    feats.T, sr=sr, x_axis=\"time\", y_axis=\"frames\", hop_length=hop_length, cmap=cmap, ax=ax[0])\n",
    "mesh.set_clim(mindb, maxdb)\n",
    "fig.colorbar(mesh, ax=ax[0])\n",
    "mesh = librosa.display.specshow(\n",
    "    out_feats_fine.data.numpy().T, sr=sr, x_axis=\"time\", y_axis=\"frames\", hop_length=hop_length, cmap=cmap, ax=ax[1])\n",
    "mesh.set_clim(mindb, maxdb)\n",
    "fig.colorbar(mesh, ax=ax[1])\n",
    "\n",
    "for a in ax:\n",
    "    a.set_xlabel(\"Time [sec]\")\n",
    "    a.set_ylabel(\"Mel filter channel\")\n",
    "fig.tight_layout()\n",
    "\n",
    "# 図10-8\n",
    "savefig(\"./fig/e2etts_impl_logmel_comp\")"
   ]
  },
  {
   "cell_type": "markdown",
   "id": "fancy-shadow",
   "metadata": {},
   "source": [
    "#### アテンション重みの可視化"
   ]
  },
  {
   "cell_type": "code",
   "execution_count": null,
   "id": "restricted-joining",
   "metadata": {},
   "outputs": [],
   "source": [
    "fig, ax = plt.subplots(figsize=(6,4))\n",
    "im = ax.imshow(alignment.cpu().data.numpy().T, aspect=\"auto\", origin=\"lower\", interpolation=\"nearest\")\n",
    "fig.colorbar(im, ax=ax)\n",
    "ax.set_xlabel(\"Decoder time step [frame]\")\n",
    "ax.set_ylabel(\"Encoder time step [phoneme]\");"
   ]
  },
  {
   "cell_type": "markdown",
   "id": "general-conversion",
   "metadata": {},
   "source": [
    "#### Stop token の可視化"
   ]
  },
  {
   "cell_type": "code",
   "execution_count": null,
   "id": "found-maker",
   "metadata": {},
   "outputs": [],
   "source": [
    "fig, ax = plt.subplots(figsize=(6,4))\n",
    "ax.plot(torch.sigmoid(stop_flags).cpu().numpy())\n",
    "ax.set_xlabel(\"Time [frame]\")\n",
    "ax.set_ylabel(\"Stop probability\");"
   ]
  },
  {
   "cell_type": "markdown",
   "id": "underlying-break",
   "metadata": {},
   "source": [
    "### 音声波形の生成"
   ]
  },
  {
   "cell_type": "code",
   "execution_count": null,
   "id": "revolutionary-friendship",
   "metadata": {},
   "outputs": [],
   "source": [
    "from ttslearn.dsp import inv_mulaw_quantize\n",
    "\n",
    "@torch.no_grad()\n",
    "def gen_waveform(wavenet_model, out_feats):\n",
    "    # (B, T, C) -> (B, C, T)\n",
    "    c = out_feats.view(1, -1, out_feats.size(-1)).transpose(1, 2)\n",
    "\n",
    "    # 音声のサンプル数を計算\n",
    "    upsample_scale = np.prod(wavenet_model.upsample_scales)\n",
    "    T = (\n",
    "        c.shape[-1] - wavenet_model.aux_context_window * 2\n",
    "    ) * upsample_scale\n",
    "\n",
    "    # WaveNet による音声波形の生成\n",
    "    # NOTE: 計算に時間がかかるため、tqdm によるプログレスバーを受け付けるようにしています\n",
    "    gen_wav = wavenet_model.inference(c, T, tqdm)\n",
    "\n",
    "    # One-hot ベクトルから1次元の信号に変換\n",
    "    gen_wav = gen_wav.max(1)[1].float().cpu().numpy().reshape(-1)\n",
    "\n",
    "    # Mu-law 量子化の逆変換\n",
    "    gen_wav = inv_mulaw_quantize(\n",
    "        gen_wav, wavenet_model.out_channels - 1\n",
    "    )\n",
    "    \n",
    "    return gen_wav"
   ]
  },
  {
   "cell_type": "markdown",
   "id": "intelligent-wildlife",
   "metadata": {},
   "source": [
    "### すべてのモデルを組み合わせて音声波形の生成"
   ]
  },
  {
   "cell_type": "code",
   "execution_count": null,
   "id": "proved-cylinder",
   "metadata": {},
   "outputs": [],
   "source": [
    "from ttslearn.util import find_lab, find_feats\n",
    "from ttslearn.dsp import logmelspectrogram_to_audio\n",
    "\n",
    "# WaveNetボコーダの代わりにGriffin-Limのアルゴリズムを利用する場合、以下をTrueにしてください。\n",
    "griffin_lim = False\n",
    "\n",
    "labels = hts.load(find_lab(\"downloads/jsut-label/\", test_utt))\n",
    "in_feats = text_to_sequence(pp_symbols(labels.contexts))\n",
    "in_feats = torch.tensor(in_feats, dtype=torch.long).to(device)\n",
    "\n",
    "with torch.no_grad():\n",
    "    _, out_feats, _, _ = acoustic_model.inference(in_feats)\n",
    "    \n",
    "if griffin_lim:\n",
    "    # Griffin-Lim のアルゴリズムに基づく音声波形生成\n",
    "    out_feats = out_feats.cpu().data.numpy()\n",
    "    # 正規化の逆変換\n",
    "    logmel = acoustic_out_scaler.inverse_transform(out_feats)\n",
    "    gen_wav = logmelspectrogram_to_audio(logmel, sr)\n",
    "else:\n",
    "    # WaveNet ボコーダによる音声波形の生成\n",
    "    gen_wav = gen_waveform(wavenet_model, out_feats)"
   ]
  },
  {
   "cell_type": "code",
   "execution_count": null,
   "id": "south-aquarium",
   "metadata": {},
   "outputs": [],
   "source": [
    "# 比較用に元音声の読み込み\n",
    "from scipy.io import wavfile\n",
    "_sr, ref_wav = wavfile.read(f\"./downloads/jsut_ver1.1/basic5000/wav/{test_utt}.wav\")\n",
    "ref_wav = (ref_wav / 32768.0).astype(np.float64)\n",
    "ref_wav = librosa.resample(ref_wav, _sr, sr)"
   ]
  },
  {
   "cell_type": "code",
   "execution_count": null,
   "id": "fundamental-maryland",
   "metadata": {},
   "outputs": [],
   "source": [
    "fig, ax = plt.subplots(2, 1, figsize=(8,6))\n",
    "\n",
    "hop_length = int(sr * 0.005)\n",
    "fft_size = pyworld.get_cheaptrick_fft_size(sr)\n",
    "\n",
    "# Tacotronの出力と粗く揃えるために、自然音声の冒頭と末尾の無音区間を削除\n",
    "ref_wav_trim = librosa.effects.trim(ref_wav, top_db=20)[0]\n",
    "\n",
    "spec_ref = librosa.stft(ref_wav_trim, n_fft=fft_size, hop_length=hop_length, window=\"hann\")\n",
    "logspec_ref = np.log(np.abs(spec_ref))\n",
    "spec_gen = librosa.stft(gen_wav, n_fft=fft_size, hop_length=hop_length, window=\"hann\")\n",
    "logspec_gen = np.log(np.abs(spec_gen))\n",
    "\n",
    "mindb = min(logspec_ref.min(), logspec_gen.min())\n",
    "maxdb = max(logspec_ref.max(), logspec_gen.max())\n",
    "\n",
    "mesh = librosa.display.specshow(logspec_ref, hop_length=hop_length, sr=sr, cmap=cmap, x_axis=\"time\", y_axis=\"hz\", ax=ax[0])\n",
    "mesh.set_clim(mindb, maxdb)\n",
    "fig.colorbar(mesh, ax=ax[0], format=\"%+2.fdB\")\n",
    "\n",
    "mesh = librosa.display.specshow(logspec_gen, hop_length=hop_length, sr=sr, cmap=cmap, x_axis=\"time\", y_axis=\"hz\", ax=ax[1])\n",
    "mesh.set_clim(mindb, maxdb)\n",
    "fig.colorbar(mesh, ax=ax[1], format=\"%+2.fdB\")\n",
    "\n",
    "ax[0].set_title(\"Spectrogram of natural speech\")\n",
    "ax[1].set_title(\"Spectrogram of generated speech\")\n",
    "\n",
    "for a in ax:\n",
    "    a.set_xlabel(\"Time [sec]\")\n",
    "    a.set_ylabel(\"Frequency [Hz]\")\n",
    "\n",
    "plt.tight_layout()\n",
    "\n",
    "print(\"自然音声\")\n",
    "IPython.display.display(Audio(ref_wav_trim, rate=sr))\n",
    "print(\"Tacotron 2による合成音声\")\n",
    "IPython.display.display(Audio(gen_wav, rate=sr))\n",
    "\n",
    "# 図10-9\n",
    "savefig(\"./fig/e2etts_impl_tts_spec_comp\")"
   ]
  },
  {
   "cell_type": "markdown",
   "id": "exotic-parliament",
   "metadata": {},
   "source": [
    "### 合成音声のより詳細な比較 (bonus)"
   ]
  },
  {
   "cell_type": "code",
   "execution_count": null,
   "id": "meaning-reserve",
   "metadata": {},
   "outputs": [],
   "source": [
    "# 比較用に、自然音声から抽出されたメルスペクトログラムから音声波形の生成を行います\n",
    "feats = np.load(find_feats(\"dump/jsut_sr16000/norm/\", test_utt, typ=\"out_tacotron\"))\n",
    "feats = torch.from_numpy(feats)\n",
    "gen_wav_wn_gt = gen_waveform(wavenet_model, feats)"
   ]
  },
  {
   "cell_type": "code",
   "execution_count": null,
   "id": "specific-given",
   "metadata": {},
   "outputs": [],
   "source": [
    "ref_wav_inv = np.load(find_feats(\"./dump/jsut_sr16000/org/\", test_utt, typ=\"out_wavenet\"))\n",
    "ref_wav_inv = inv_mulaw_quantize(ref_wav_inv, 255)"
   ]
  },
  {
   "cell_type": "code",
   "execution_count": null,
   "id": "retained-yorkshire",
   "metadata": {},
   "outputs": [],
   "source": [
    "print(\"自然音声\")\n",
    "IPython.display.display(Audio(ref_wav, rate=sr))\n",
    "print(\"自然音声 (8-bit mu-law)\")\n",
    "IPython.display.display(Audio(ref_wav_inv, rate=sr))\n",
    "print(\"WaveNetボコーダの出力\")\n",
    "IPython.display.display(Audio(gen_wav_wn_gt, rate=sr))\n",
    "print(\"Tacotron + WaveNetボコーダの出力\")\n",
    "IPython.display.display(Audio(gen_wav, rate=sr))"
   ]
  },
  {
   "cell_type": "markdown",
   "id": "naval-medication",
   "metadata": {},
   "source": [
    "### 評価データに対して音声波形生成"
   ]
  },
  {
   "cell_type": "markdown",
   "id": "large-greenhouse",
   "metadata": {},
   "source": [
    "#### レシピの stage 5 の実行"
   ]
  },
  {
   "cell_type": "code",
   "execution_count": null,
   "id": "desperate-darkness",
   "metadata": {},
   "outputs": [],
   "source": [
    "if run_sh:\n",
    "    ! ./run.sh --stage 5 --stop-stage 5 --acoustic-model $acoustic_config_name \\\n",
    "        --tqdm $run_sh_tqdm --wavenet-model $wavenet_config_name \\\n",
    "        --reverse true --num-eval-utts $num_eval_utts"
   ]
  },
  {
   "cell_type": "markdown",
   "id": "conceptual-writer",
   "metadata": {},
   "source": [
    "#### レシピの stage 6 の実行"
   ]
  },
  {
   "cell_type": "code",
   "execution_count": null,
   "id": "resident-harvest",
   "metadata": {},
   "outputs": [],
   "source": [
    "if run_sh and run_stage6:\n",
    "    ! ./run.sh --stage 6 --stop-stage 6 --acoustic-model $acoustic_config_name \\\n",
    "        --tqdm $run_sh_tqdm --wavenet-model $wavenet_config_name \\\n",
    "        --reverse true --num-eval-utts $num_eval_utts"
   ]
  },
  {
   "cell_type": "markdown",
   "id": "united-poverty",
   "metadata": {},
   "source": [
    "## 自然音声と合成音声の比較 (bonus)"
   ]
  },
  {
   "cell_type": "code",
   "execution_count": null,
   "id": "analyzed-trace",
   "metadata": {},
   "outputs": [],
   "source": [
    "from pathlib import Path\n",
    "from ttslearn.util import load_utt_list\n",
    "\n",
    "with open(\"./downloads/jsut_ver1.1/basic5000/transcript_utf8.txt\") as f:\n",
    "    transcripts = {}\n",
    "    for l in f:\n",
    "        utt_id, script = l.split(\":\")\n",
    "        transcripts[utt_id] = script\n",
    "        \n",
    "eval_list = load_utt_list(\"data/eval.list\")[::-1][:5]\n",
    "\n",
    "for utt_id in eval_list:\n",
    "    # ref file \n",
    "    ref_file = f\"./downloads/jsut_ver1.1/basic5000/wav/{utt_id}.wav\"\n",
    "    _sr, ref_wav = wavfile.read(ref_file)\n",
    "    ref_wav = (ref_wav / 32768.0).astype(np.float64)\n",
    "    ref_wav = librosa.resample(ref_wav, _sr, sr)\n",
    "  \n",
    "    print(f\"{utt_id}: {transcripts[utt_id]}\")\n",
    "    print(\"自然音声\")\n",
    "    IPython.display.display(Audio(ref_wav, rate=sr))\n",
    "\n",
    "    gen_file = f\"exp/jsut_sr16000/synthesis_{acoustic_config_name}_griffin_lim/eval/{utt_id}.wav\"\n",
    "    if exists(gen_file):\n",
    "        _sr, gen_wav = wavfile.read(gen_file)\n",
    "        print(\"Tacotron + Griffin-Lim\")\n",
    "        IPython.display.display(Audio(gen_wav, rate=sr))\n",
    "    else:\n",
    "        print(\"Tacotron + Griffin-Lim: not found\")\n",
    "\n",
    "    gen_file_wn = f\"exp/jsut_sr16000/synthesis_{acoustic_config_name}_{wavenet_config_name}/eval/{utt_id}.wav\"\n",
    "    if exists(gen_file_wn):\n",
    "        _sr, gen_wav_wn = wavfile.read(gen_file_wn)\n",
    "        print(\"Tacotron + WaveNetボコーダ\")\n",
    "        IPython.display.display(Audio(gen_wav_wn, rate=sr))\n",
    "    else:\n",
    "        print(\"Tacotron + WaveNetボコーダ: not found\")        "
   ]
  },
  {
   "cell_type": "markdown",
   "id": "proof-labor",
   "metadata": {},
   "source": [
    "## 学習済みモデルのパッケージング (bonus)\n",
    "\n",
    "学習済みモデルを利用したTTSに必要なファイルをすべて単一のディレクトリにまとめます。\n",
    "`ttslearn.tacotron.Tacotron2TTS` クラスには、まとめたディレクトリを指定し、TTSを行う機能が実装されています。"
   ]
  },
  {
   "cell_type": "markdown",
   "id": "friendly-contribution",
   "metadata": {},
   "source": [
    "### レシピの stage 99 の実行"
   ]
  },
  {
   "cell_type": "code",
   "execution_count": null,
   "id": "stainless-history",
   "metadata": {},
   "outputs": [],
   "source": [
    "if run_sh:\n",
    "    ! ./run.sh --stage 99 --stop-stage 99 --acoustic-model $acoustic_config_name \\\n",
    "        --wavenet-model $wavenet_config_name"
   ]
  },
  {
   "cell_type": "code",
   "execution_count": null,
   "id": "broken-karen",
   "metadata": {},
   "outputs": [],
   "source": [
    "!ls tts_models/jsut_sr16000_{acoustic_config_name}_{wavenet_config_name}"
   ]
  },
  {
   "cell_type": "markdown",
   "id": "searching-provider",
   "metadata": {},
   "source": [
    "### パッケージングしたモデルを利用したTTS"
   ]
  },
  {
   "cell_type": "code",
   "execution_count": null,
   "id": "postal-stationery",
   "metadata": {},
   "outputs": [],
   "source": [
    "from ttslearn.tacotron import Tacotron2TTS\n",
    "\n",
    "# パッケージングしたモデルのパスを指定します\n",
    "engine = Tacotron2TTS(\n",
    "    model_dir=f\"./tts_models/jsut_sr16000_{acoustic_config_name}_{wavenet_config_name}\"\n",
    ")\n",
    "wav, sr = engine.tts(\"ここまでお読みいただき、ありがとうございました。\", tqdm=tqdm)\n",
    "\n",
    "fig, ax = plt.subplots(figsize=(8,2))\n",
    "librosa.display.waveshow(wav.astype(np.float32), sr, ax=ax)\n",
    "ax.set_xlabel(\"Time [sec]\")\n",
    "ax.set_ylabel(\"Amplitude\")\n",
    "plt.tight_layout()\n",
    "\n",
    "Audio(wav, rate=sr)"
   ]
  },
  {
   "cell_type": "code",
   "execution_count": null,
   "id": "athletic-aquatic",
   "metadata": {},
   "outputs": [],
   "source": [
    "if is_colab():\n",
    "    from datetime import timedelta\n",
    "    elapsed = (time.time() - start_time)\n",
    "    print(\"所要時間:\", str(timedelta(seconds=elapsed)))"
   ]
  }
 ],
 "metadata": {
  "kernelspec": {
   "display_name": "Python 3",
   "language": "python",
   "name": "python3"
  },
  "language_info": {
   "codemirror_mode": {
    "name": "ipython",
    "version": 3
   },
   "file_extension": ".py",
   "mimetype": "text/x-python",
   "name": "python",
   "nbconvert_exporter": "python",
   "pygments_lexer": "ipython3",
   "version": "3.8.6"
  }
 },
 "nbformat": 4,
 "nbformat_minor": 5
}
